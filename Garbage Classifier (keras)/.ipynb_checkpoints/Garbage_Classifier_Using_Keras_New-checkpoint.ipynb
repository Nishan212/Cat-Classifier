{
 "cells": [
  {
   "cell_type": "markdown",
   "metadata": {},
   "source": [
    "# DNN Model to Clasify Garbage using Keras"
   ]
  },
  {
   "cell_type": "markdown",
   "metadata": {},
   "source": [
    "## 1. Import required libraries\n",
    "- os to navigate the file system\n",
    "- getcwd to get the current working directory\n",
    "- tensorflow for Training the model\n",
    "- shutil to copy the file for train-test split"
   ]
  },
  {
   "cell_type": "code",
   "execution_count": 1,
   "metadata": {},
   "outputs": [],
   "source": [
    "import os\n",
    "from os import getcwd\n",
    "import tensorflow as tf\n",
    "import random\n",
    "import shutil\n",
    "from shutil import copyfile"
   ]
  },
  {
   "cell_type": "markdown",
   "metadata": {},
   "source": [
    "## 2. Direct to the Source directories"
   ]
  },
  {
   "cell_type": "code",
   "execution_count": 2,
   "metadata": {},
   "outputs": [],
   "source": [
    "os.chdir(getcwd() + '/Dataset')\n",
    "path = getcwd()\n",
    "SOURCE_DIR = path + '/source/'\n",
    "cardboard = SOURCE_DIR + '/cardboard/'\n",
    "glass = SOURCE_DIR + '/glass/'\n",
    "metal = SOURCE_DIR + '/metal/'\n",
    "paper = SOURCE_DIR + '/paper/'\n",
    "plastic = SOURCE_DIR + '/plastic/'\n",
    "trash = SOURCE_DIR + '/trash/'"
   ]
  },
  {
   "cell_type": "markdown",
   "metadata": {},
   "source": [
    "## 3. Creating the required directories (for training and testing)"
   ]
  },
  {
   "cell_type": "code",
   "execution_count": 3,
   "metadata": {},
   "outputs": [],
   "source": [
    "os.chdir(path)\n",
    "try : \n",
    "    os.mkdir(path + '/training/')\n",
    "    os.mkdir(path + '/training/cardboard_training/')\n",
    "    os.mkdir(path + '/training/glass_training/')\n",
    "    os.mkdir(path + '/training/metal_training/')\n",
    "    os.mkdir(path + '/training/paper_training/')\n",
    "    os.mkdir(path + '/training/plastic_training/')\n",
    "    os.mkdir(path + '/training/trash_training/')\n",
    "\n",
    "    os.mkdir(path + '/testing/')\n",
    "    os.mkdir(path + '/testing/cardboard_testing/')\n",
    "    os.mkdir(path + '/testing/glass_testing/')\n",
    "    os.mkdir(path + '/testing/metal_testing/')\n",
    "    os.mkdir(path + '/testing/paper_testing/')\n",
    "    os.mkdir(path + '/testing/plastic_testing/')\n",
    "    os.mkdir(path + '/testing/trash_testing/')\n",
    "\n",
    "except OSError:\n",
    "    pass\n",
    "\n",
    "TRAINING_DIR = path + '/training/'\n",
    "TESTING_DIR = path + '/testing/'"
   ]
  },
  {
   "cell_type": "markdown",
   "metadata": {},
   "source": [
    "- Some info on the dataset files"
   ]
  },
  {
   "cell_type": "code",
   "execution_count": 4,
   "metadata": {
    "colab": {},
    "colab_type": "code",
    "id": "MrxdR83ANgjS"
   },
   "outputs": [
    {
     "name": "stdout",
     "output_type": "stream",
     "text": [
      "total training cardboard images: 401\n",
      "total training glass images: 501\n",
      "total training metal images: 410\n",
      "total training paper images: 594\n",
      "total training plastic images: 482\n",
      "total training trash images: 137\n",
      "['cardboard1.jpg', 'cardboard10.jpg', 'cardboard100.jpg', 'cardboard101.jpg', 'cardboard102.jpg', 'cardboard103.jpg', 'cardboard104.jpg', 'cardboard105.jpg', 'cardboard106.jpg', 'cardboard107.jpg']\n",
      "['glass1.jpg', 'glass10.jpg', 'glass100.jpg', 'glass101.jpg', 'glass102.jpg', 'glass103.jpg', 'glass104.jpg', 'glass105.jpg', 'glass106.jpg', 'glass107.jpg']\n",
      "['metal1.jpg', 'metal10.jpg', 'metal100.jpg', 'metal101.jpg', 'metal102.jpg', 'metal103.jpg', 'metal104.jpg', 'metal105.jpg', 'metal106.jpg', 'metal107.jpg']\n",
      "['paper1.jpg', 'paper10.jpg', 'paper100.jpg', 'paper101.jpg', 'paper102.jpg', 'paper103.jpg', 'paper104.jpg', 'paper105.jpg', 'paper106.jpg', 'paper107.jpg']\n",
      "['plastic1.jpg', 'plastic10.jpg', 'plastic100.jpg', 'plastic101.jpg', 'plastic102.jpg', 'plastic103.jpg', 'plastic104.jpg', 'plastic105.jpg', 'plastic106.jpg', 'plastic107.jpg']\n",
      "['trash1.jpg', 'trash10.jpg', 'trash100.jpg', 'trash101.jpg', 'trash102.jpg', 'trash103.jpg', 'trash104.jpg', 'trash105.jpg', 'trash106.jpg', 'trash107.jpg']\n"
     ]
    }
   ],
   "source": [
    "print('total training cardboard images:', len(os.listdir(cardboard)))\n",
    "print('total training glass images:', len(os.listdir(glass)))\n",
    "print('total training metal images:', len(os.listdir(metal)))\n",
    "print('total training paper images:', len(os.listdir(paper)))\n",
    "print('total training plastic images:', len(os.listdir(plastic)))\n",
    "print('total training trash images:', len(os.listdir(trash)))\n",
    "\n",
    "\n",
    "\n",
    "\n",
    "cardboard_files = os.listdir(cardboard)\n",
    "print(cardboard_files[:10])\n",
    "\n",
    "glass_files = os.listdir(glass)\n",
    "print(glass_files[:10])\n",
    "\n",
    "metal_files = os.listdir(metal)\n",
    "print(metal_files[:10])\n",
    "\n",
    "paper_files = os.listdir(paper)\n",
    "print(paper_files[:10])\n",
    "\n",
    "plastic_files = os.listdir(plastic)\n",
    "print(plastic_files[:10])\n",
    "\n",
    "trash_files = os.listdir(trash)\n",
    "print(trash_files[:10])"
   ]
  },
  {
   "cell_type": "markdown",
   "metadata": {},
   "source": [
    "## 4. Performing Train-Test split (90% - 10%)"
   ]
  },
  {
   "cell_type": "code",
   "execution_count": 5,
   "metadata": {},
   "outputs": [],
   "source": [
    "def split_data(SOURCE, TRAINING, TESTING, SPLIT_SIZE):\n",
    "    random.sample(SOURCE, len(SOURCE))\n",
    "    interIndex = int(SPLIT_SIZE * len(os.listdir(SOURCE)))\n",
    "    \n",
    "    \n",
    "    for file in os.listdir(SOURCE)[:interIndex]:\n",
    "        try:\n",
    "            copyfile(SOURCE + file, TRAINING + file)\n",
    "        except:\n",
    "            continue\n",
    "        \n",
    "    for file in os.listdir(SOURCE)[interIndex:]:\n",
    "        try:\n",
    "            copyfile(SOURCE + file, TESTING + file)\n",
    "        except:\n",
    "            continue\n",
    "\n",
    "    return\n",
    "\n",
    "CARDBOARD_SOURCE_DIR = cardboard\n",
    "TRAINING_CARDBOARD_DIR = TRAINING_DIR + \"/cardboard_training/\"\n",
    "TESTING_CARDBOARD_DIR = TESTING_DIR + \"/cardboard_testing/\"\n",
    "\n",
    "GLASS_SOURCE_DIR = glass\n",
    "TRAINING_GLASS_DIR = TRAINING_DIR + \"/glass_training/\"\n",
    "TESTING_GLASS_DIR = TESTING_DIR + \"/glass_testing/\"\n",
    "\n",
    "METAL_SOURCE_DIR = metal\n",
    "TRAINING_METAL_DIR = TRAINING_DIR + \"/metal_training/\"\n",
    "TESTING_METAL_DIR = TESTING_DIR + \"/metal_testing/\"\n",
    "\n",
    "PAPER_SOURCE_DIR = paper\n",
    "TRAINING_PAPER_DIR = TRAINING_DIR + \"/paper_training/\"\n",
    "TESTING_PAPER_DIR = TESTING_DIR + \"/paper_testing/\"\n",
    "\n",
    "PLASTIC_SOURCE_DIR = plastic\n",
    "TRAINING_PLASTIC_DIR = TRAINING_DIR + \"/plastic_training/\"\n",
    "TESTING_PLASTIC_DIR = TESTING_DIR + \"/plastic_testing/\"\n",
    "\n",
    "TRASH_SOURCE_DIR = trash\n",
    "TRAINING_TRASH_DIR = TRAINING_DIR + \"/trash_training/\"\n",
    "TESTING_TRASH_DIR = TESTING_DIR + \"/trash_testing/\"\n",
    "\n",
    "split_size = .9 # change this to change ratio of train-test split\n",
    "split_data(CARDBOARD_SOURCE_DIR, TRAINING_CARDBOARD_DIR, TESTING_CARDBOARD_DIR, split_size)\n",
    "split_data(GLASS_SOURCE_DIR, TRAINING_GLASS_DIR, TESTING_GLASS_DIR, split_size)\n",
    "split_data(METAL_SOURCE_DIR, TRAINING_METAL_DIR, TESTING_METAL_DIR, split_size)\n",
    "split_data(PAPER_SOURCE_DIR, TRAINING_PAPER_DIR, TESTING_PAPER_DIR, split_size)\n",
    "split_data(PLASTIC_SOURCE_DIR, TRAINING_PLASTIC_DIR, TESTING_PLASTIC_DIR, split_size)\n",
    "split_data(TRASH_SOURCE_DIR, TRAINING_TRASH_DIR, TESTING_TRASH_DIR, split_size)"
   ]
  },
  {
   "cell_type": "markdown",
   "metadata": {},
   "source": [
    "## 5. Model Training and Testing\n",
    "- Creating a ImageDataGenerator to rescale and input a variety of distinct images from the given dataset to train the model better.\n",
    "- reducing image size to 150x150 (x3 rgb)  \n",
    "  \n",
    "**Model**:\n",
    "- 3 - 2D convolutional layers followed by 2D Maxpooling.\n",
    "- Flattening the image into a array.\n",
    "- An additional hidden layer and a output layer of size 6, for 6 classes of garbage.\n",
    "- model summary provided."
   ]
  },
  {
   "cell_type": "code",
   "execution_count": 8,
   "metadata": {
    "colab": {},
    "colab_type": "code",
    "id": "LWTisYLQM1aM"
   },
   "outputs": [
    {
     "name": "stdout",
     "output_type": "stream",
     "text": [
      "Found 2269 images belonging to 6 classes.\n",
      "Found 256 images belonging to 6 classes.\n",
      "Model: \"sequential_1\"\n",
      "_________________________________________________________________\n",
      "Layer (type)                 Output Shape              Param #   \n",
      "=================================================================\n",
      "conv2d_4 (Conv2D)            (None, 148, 148, 64)      1792      \n",
      "_________________________________________________________________\n",
      "max_pooling2d_4 (MaxPooling2 (None, 74, 74, 64)        0         \n",
      "_________________________________________________________________\n",
      "conv2d_5 (Conv2D)            (None, 72, 72, 64)        36928     \n",
      "_________________________________________________________________\n",
      "max_pooling2d_5 (MaxPooling2 (None, 36, 36, 64)        0         \n",
      "_________________________________________________________________\n",
      "conv2d_6 (Conv2D)            (None, 34, 34, 128)       73856     \n",
      "_________________________________________________________________\n",
      "max_pooling2d_6 (MaxPooling2 (None, 17, 17, 128)       0         \n",
      "_________________________________________________________________\n",
      "conv2d_7 (Conv2D)            (None, 15, 15, 128)       147584    \n",
      "_________________________________________________________________\n",
      "max_pooling2d_7 (MaxPooling2 (None, 7, 7, 128)         0         \n",
      "_________________________________________________________________\n",
      "flatten_1 (Flatten)          (None, 6272)              0         \n",
      "_________________________________________________________________\n",
      "dropout_1 (Dropout)          (None, 6272)              0         \n",
      "_________________________________________________________________\n",
      "dense_2 (Dense)              (None, 512)               3211776   \n",
      "_________________________________________________________________\n",
      "dense_3 (Dense)              (None, 6)                 3078      \n",
      "=================================================================\n",
      "Total params: 3,475,014\n",
      "Trainable params: 3,475,014\n",
      "Non-trainable params: 0\n",
      "_________________________________________________________________\n",
      "Epoch 1/50\n",
      "20/20 [==============================] - 17s 865ms/step - loss: 2.1344 - acc: 0.2400 - val_loss: 1.7510 - val_acc: 0.1602\n",
      "Epoch 2/50\n",
      "20/20 [==============================] - 12s 577ms/step - loss: 1.7847 - acc: 0.2150 - val_loss: 1.7004 - val_acc: 0.2383\n",
      "Epoch 3/50\n",
      "20/20 [==============================] - 11s 552ms/step - loss: 1.7718 - acc: 0.2350 - val_loss: 1.7387 - val_acc: 0.2344\n",
      "Epoch 4/50\n",
      "20/20 [==============================] - 12s 586ms/step - loss: 1.7864 - acc: 0.2350 - val_loss: 1.6639 - val_acc: 0.2891\n",
      "Epoch 5/50\n",
      "20/20 [==============================] - 12s 612ms/step - loss: 1.7029 - acc: 0.2550 - val_loss: 1.7810 - val_acc: 0.2109\n",
      "Epoch 6/50\n",
      "20/20 [==============================] - 11s 575ms/step - loss: 1.6375 - acc: 0.2600 - val_loss: 1.6572 - val_acc: 0.3242\n",
      "Epoch 7/50\n",
      "20/20 [==============================] - 12s 598ms/step - loss: 1.7596 - acc: 0.2850 - val_loss: 1.6195 - val_acc: 0.4219\n",
      "Epoch 8/50\n",
      "20/20 [==============================] - 11s 574ms/step - loss: 1.6683 - acc: 0.3250 - val_loss: 1.5583 - val_acc: 0.3359\n",
      "Epoch 9/50\n",
      "20/20 [==============================] - 11s 562ms/step - loss: 1.6531 - acc: 0.3300 - val_loss: 1.5298 - val_acc: 0.3125\n",
      "Epoch 10/50\n",
      "20/20 [==============================] - 11s 564ms/step - loss: 1.6222 - acc: 0.3015 - val_loss: 1.4529 - val_acc: 0.3906\n",
      "Epoch 11/50\n",
      "20/20 [==============================] - 12s 581ms/step - loss: 1.6013 - acc: 0.3500 - val_loss: 1.5121 - val_acc: 0.3750\n",
      "Epoch 12/50\n",
      "20/20 [==============================] - 12s 586ms/step - loss: 1.5552 - acc: 0.3400 - val_loss: 1.5239 - val_acc: 0.3984\n",
      "Epoch 13/50\n",
      "20/20 [==============================] - 11s 570ms/step - loss: 1.6246 - acc: 0.3250 - val_loss: 1.4797 - val_acc: 0.3633\n",
      "Epoch 14/50\n",
      "20/20 [==============================] - 12s 582ms/step - loss: 1.5417 - acc: 0.3650 - val_loss: 1.5352 - val_acc: 0.3047\n",
      "Epoch 15/50\n",
      "20/20 [==============================] - 11s 574ms/step - loss: 1.5749 - acc: 0.3200 - val_loss: 2.1949 - val_acc: 0.2539\n",
      "Epoch 16/50\n",
      "20/20 [==============================] - 11s 569ms/step - loss: 1.6172 - acc: 0.3650 - val_loss: 1.6538 - val_acc: 0.2305\n",
      "Epoch 17/50\n",
      "20/20 [==============================] - 11s 566ms/step - loss: 1.5581 - acc: 0.3600 - val_loss: 1.3756 - val_acc: 0.4102\n",
      "Epoch 18/50\n",
      "20/20 [==============================] - 12s 579ms/step - loss: 1.5734 - acc: 0.3250 - val_loss: 1.3577 - val_acc: 0.4570\n",
      "Epoch 19/50\n",
      "20/20 [==============================] - 11s 571ms/step - loss: 1.5637 - acc: 0.3950 - val_loss: 1.3290 - val_acc: 0.4609\n",
      "Epoch 20/50\n",
      "20/20 [==============================] - 12s 582ms/step - loss: 1.5009 - acc: 0.3950 - val_loss: 1.6811 - val_acc: 0.3906\n",
      "Epoch 21/50\n",
      "20/20 [==============================] - 12s 597ms/step - loss: 1.4854 - acc: 0.3950 - val_loss: 1.3727 - val_acc: 0.3945\n",
      "Epoch 22/50\n",
      "20/20 [==============================] - 11s 567ms/step - loss: 1.4567 - acc: 0.3869 - val_loss: 1.1845 - val_acc: 0.4336\n",
      "Epoch 23/50\n",
      "20/20 [==============================] - 12s 578ms/step - loss: 1.4322 - acc: 0.4000 - val_loss: 1.2338 - val_acc: 0.4883\n",
      "Epoch 24/50\n",
      "20/20 [==============================] - 12s 578ms/step - loss: 1.4981 - acc: 0.4050 - val_loss: 1.3579 - val_acc: 0.4297\n",
      "Epoch 25/50\n",
      "20/20 [==============================] - 11s 562ms/step - loss: 1.5333 - acc: 0.4400 - val_loss: 1.3891 - val_acc: 0.4492\n",
      "Epoch 26/50\n",
      "20/20 [==============================] - 12s 597ms/step - loss: 1.4928 - acc: 0.4050 - val_loss: 1.2205 - val_acc: 0.4453\n",
      "Epoch 27/50\n",
      "20/20 [==============================] - 12s 583ms/step - loss: 1.4315 - acc: 0.4221 - val_loss: 1.7361 - val_acc: 0.4219\n",
      "Epoch 28/50\n",
      "20/20 [==============================] - 11s 565ms/step - loss: 1.4995 - acc: 0.3750 - val_loss: 1.4968 - val_acc: 0.5078\n",
      "Epoch 29/50\n",
      "20/20 [==============================] - 12s 599ms/step - loss: 1.4726 - acc: 0.3500 - val_loss: 1.5231 - val_acc: 0.4844\n",
      "Epoch 30/50\n",
      "20/20 [==============================] - 11s 570ms/step - loss: 1.4606 - acc: 0.3650 - val_loss: 1.2104 - val_acc: 0.4766\n",
      "Epoch 31/50\n",
      "20/20 [==============================] - 11s 574ms/step - loss: 1.4298 - acc: 0.4100 - val_loss: 1.0068 - val_acc: 0.5234\n",
      "Epoch 32/50\n",
      "20/20 [==============================] - 12s 594ms/step - loss: 1.4870 - acc: 0.4500 - val_loss: 1.1365 - val_acc: 0.4688\n",
      "Epoch 33/50\n",
      "20/20 [==============================] - 11s 570ms/step - loss: 1.3781 - acc: 0.4200 - val_loss: 1.2218 - val_acc: 0.4922\n",
      "Epoch 34/50\n",
      "20/20 [==============================] - 12s 578ms/step - loss: 1.3448 - acc: 0.4750 - val_loss: 1.1223 - val_acc: 0.5039\n",
      "Epoch 35/50\n",
      "20/20 [==============================] - 12s 575ms/step - loss: 1.3985 - acc: 0.4150 - val_loss: 1.0910 - val_acc: 0.5156\n",
      "Epoch 36/50\n",
      "20/20 [==============================] - 11s 564ms/step - loss: 1.3930 - acc: 0.4300 - val_loss: 1.7126 - val_acc: 0.3438\n",
      "Epoch 37/50\n",
      "20/20 [==============================] - 12s 605ms/step - loss: 1.2871 - acc: 0.4600 - val_loss: 1.7393 - val_acc: 0.4648\n",
      "Epoch 38/50\n",
      "20/20 [==============================] - 11s 567ms/step - loss: 1.6386 - acc: 0.4250 - val_loss: 1.3854 - val_acc: 0.5391\n",
      "Epoch 39/50\n",
      "20/20 [==============================] - 11s 573ms/step - loss: 1.3071 - acc: 0.4900 - val_loss: 2.6351 - val_acc: 0.3320\n",
      "Epoch 40/50\n",
      "20/20 [==============================] - 12s 585ms/step - loss: 1.4142 - acc: 0.3950 - val_loss: 1.3073 - val_acc: 0.5039\n",
      "Epoch 41/50\n",
      "20/20 [==============================] - 11s 562ms/step - loss: 1.4185 - acc: 0.4800 - val_loss: 1.5137 - val_acc: 0.3320\n",
      "Epoch 42/50\n",
      "20/20 [==============================] - 12s 593ms/step - loss: 1.4724 - acc: 0.3970 - val_loss: 1.2769 - val_acc: 0.5039\n",
      "Epoch 43/50\n",
      "20/20 [==============================] - 12s 577ms/step - loss: 1.4102 - acc: 0.4250 - val_loss: 1.4290 - val_acc: 0.4570\n",
      "Epoch 44/50\n",
      "20/20 [==============================] - 12s 594ms/step - loss: 1.3052 - acc: 0.5200 - val_loss: 1.3490 - val_acc: 0.5156\n",
      "Epoch 45/50\n",
      "20/20 [==============================] - 12s 610ms/step - loss: 1.4192 - acc: 0.4300 - val_loss: 1.3728 - val_acc: 0.4609\n",
      "Epoch 46/50\n",
      "20/20 [==============================] - 12s 580ms/step - loss: 1.3889 - acc: 0.4650 - val_loss: 1.5530 - val_acc: 0.4766\n",
      "Epoch 47/50\n"
     ]
    },
    {
     "name": "stdout",
     "output_type": "stream",
     "text": [
      "20/20 [==============================] - 12s 603ms/step - loss: 1.2588 - acc: 0.5250 - val_loss: 1.2319 - val_acc: 0.5156\n",
      "Epoch 48/50\n",
      "20/20 [==============================] - 11s 567ms/step - loss: 1.3291 - acc: 0.5150 - val_loss: 1.1829 - val_acc: 0.6055\n",
      "Epoch 49/50\n",
      "20/20 [==============================] - 12s 614ms/step - loss: 1.3216 - acc: 0.4874 - val_loss: 1.5957 - val_acc: 0.4102\n",
      "Epoch 50/50\n",
      "20/20 [==============================] - 13s 631ms/step - loss: 1.4452 - acc: 0.4700 - val_loss: 1.1960 - val_acc: 0.5391\n"
     ]
    }
   ],
   "source": [
    "import keras_preprocessing\n",
    "from keras_preprocessing import image\n",
    "from keras_preprocessing.image import ImageDataGenerator\n",
    "\n",
    "TRAINING_DIR = TRAINING_DIR\n",
    "training_datagen = ImageDataGenerator(\n",
    "      rescale = 1. / 255.,\n",
    "      rotation_range = 40,\n",
    "      width_shift_range = 0.2,\n",
    "      height_shift_range = 0.2,\n",
    "      shear_range = 0.2,\n",
    "      zoom_range = 0.2,\n",
    "      horizontal_flip = True,\n",
    "      fill_mode = 'nearest')\n",
    "\n",
    "VALIDATION_DIR = TESTING_DIR\n",
    "validation_datagen = ImageDataGenerator(rescale = 1. / 255.)\n",
    "\n",
    "train_generator = training_datagen.flow_from_directory(\n",
    "    TRAINING_DIR,\n",
    "    target_size = (150, 150),\n",
    "    class_mode = 'categorical',\n",
    "    batch_size = 10\n",
    "    \n",
    ")\n",
    "\n",
    "validation_generator = validation_datagen.flow_from_directory(\n",
    "    VALIDATION_DIR,\n",
    "    target_size = (150, 150),\n",
    "    class_mode = 'categorical',\n",
    "    batch_size = 126\n",
    ")\n",
    "\n",
    "model = tf.keras.models.Sequential([\n",
    "    tf.keras.layers.Conv2D(64, (3, 3), activation = 'relu', input_shape = (150, 150, 3)),\n",
    "    tf.keras.layers.MaxPooling2D(2, 2),\n",
    "    \n",
    "    tf.keras.layers.Conv2D(64, (3, 3), activation = 'relu'),\n",
    "    tf.keras.layers.MaxPooling2D(2, 2),\n",
    "    \n",
    "    tf.keras.layers.Conv2D(128, (3, 3), activation = 'relu'),\n",
    "    tf.keras.layers.MaxPooling2D(2, 2),\n",
    "    \n",
    "    tf.keras.layers.Conv2D(128, (3, 3), activation = 'relu'),\n",
    "    tf.keras.layers.MaxPooling2D(2, 2),\n",
    "    \n",
    "    tf.keras.layers.Flatten(),\n",
    "    tf.keras.layers.Dropout(0.5),\n",
    "    \n",
    "    tf.keras.layers.Dense(512, activation = 'relu'),\n",
    "    tf.keras.layers.Dense(6, activation = 'softmax')\n",
    "])\n",
    "\n",
    "\n",
    "model.summary()\n",
    "\n",
    "model.compile(loss = 'categorical_crossentropy', optimizer = 'rmsprop', metrics = ['accuracy'])\n",
    "\n",
    "history = model.fit(train_generator, epochs = 50, steps_per_epoch = 20, validation_data = validation_generator, verbose = 1)\n",
    "\n",
    "model.save(\"rps.h5\")"
   ]
  },
  {
   "cell_type": "markdown",
   "metadata": {},
   "source": [
    "## 6. Model Visiualiztion\n",
    "- plot of train and test accuracy and losses"
   ]
  },
  {
   "cell_type": "code",
   "execution_count": 7,
   "metadata": {
    "colab": {},
    "colab_type": "code",
    "id": "aeTRVCr6aosw"
   },
   "outputs": [
    {
     "data": {
      "image/png": "[encoded data removed]",
      "text/plain": [
       "<Figure size 432x288 with 1 Axes>"
      ]
     },
     "metadata": {
      "needs_background": "light"
     },
     "output_type": "display_data"
    },
    {
     "data": {
      "text/plain": [
       "<Figure size 432x288 with 0 Axes>"
      ]
     },
     "metadata": {},
     "output_type": "display_data"
    }
   ],
   "source": [
    "import matplotlib.pyplot as plt\n",
    "\n",
    "acc = history.history['acc']\n",
    "val_acc = history.history['val_acc']\n",
    "loss = history.history['loss']\n",
    "val_loss = history.history['val_loss']\n",
    "\n",
    "epochs = range(len(acc))\n",
    "\n",
    "plt.plot(epochs, acc, 'r', label='Training accuracy')\n",
    "plt.plot(epochs, val_acc, 'b', label='Validation accuracy')\n",
    "plt.title('Training and validation accuracy')\n",
    "plt.legend(loc=0)\n",
    "plt.figure()\n",
    "\n",
    "\n",
    "plt.show()"
   ]
  }
 ],
 "metadata": {
  "accelerator": "GPU",
  "colab": {
   "name": "Course 2 - Part 8 - Lesson 2 - Notebook (RockPaperScissors).ipynb",
   "provenance": [],
   "toc_visible": true
  },
  "kernelspec": {
   "display_name": "Python 3",
   "language": "python",
   "name": "python3"
  },
  "language_info": {
   "codemirror_mode": {
    "name": "ipython",
    "version": 3
   },
   "file_extension": ".py",
   "mimetype": "text/x-python",
   "name": "python",
   "nbconvert_exporter": "python",
   "pygments_lexer": "ipython3",
   "version": "3.7.3"
  }
 },
 "nbformat": 4,
 "nbformat_minor": 1
}
